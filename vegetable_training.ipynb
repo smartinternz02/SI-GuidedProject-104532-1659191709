{
 "cells": [
  {
   "cell_type": "code",
   "execution_count": 1,
   "id": "742a672f",
   "metadata": {},
   "outputs": [],
   "source": [
    "from keras.preprocessing.image import ImageDataGenerator"
   ]
  },
  {
   "cell_type": "code",
   "execution_count": 2,
   "id": "9389a1d2",
   "metadata": {},
   "outputs": [],
   "source": [
    "train_datagen=ImageDataGenerator(rescale=1./255,shear_range=0.2,zoom_range=0.2,horizontal_flip=True)"
   ]
  },
  {
   "cell_type": "code",
   "execution_count": 3,
   "id": "71c7e345",
   "metadata": {},
   "outputs": [],
   "source": [
    "test_datagen=ImageDataGenerator(rescale=1./255)"
   ]
  },
  {
   "cell_type": "code",
   "execution_count": 4,
   "id": "ad328b4a",
   "metadata": {},
   "outputs": [
    {
     "name": "stdout",
     "output_type": "stream",
     "text": [
      "Found 11386 images belonging to 9 classes.\n"
     ]
    }
   ],
   "source": [
    "x_train=train_datagen.flow_from_directory('C:/Users/Saurabh Sharma/Desktop/Project Build-A-Thon/Project/Dataset Plant Disease/Veg-dataset/Veg-dataset/train_set',target_size=(128,128),\n",
    "class_mode='categorical',batch_size=16)"
   ]
  },
  {
   "cell_type": "code",
   "execution_count": 5,
   "id": "04a0be02",
   "metadata": {},
   "outputs": [
    {
     "name": "stdout",
     "output_type": "stream",
     "text": [
      "Found 3416 images belonging to 9 classes.\n"
     ]
    }
   ],
   "source": [
    "x_test=test_datagen.flow_from_directory('C:/Users/Saurabh Sharma/Desktop/Project Build-A-Thon/Project/Dataset Plant Disease//Veg-dataset/Veg-dataset/test_set',target_size=(128,128),\n",
    "class_mode='categorical',batch_size=16)"
   ]
  },
  {
   "cell_type": "code",
   "execution_count": 6,
   "id": "9457c22d",
   "metadata": {},
   "outputs": [],
   "source": [
    "from keras.models import Sequential\n",
    "from keras.layers import Dense\n",
    "from keras.layers import Convolution2D\n",
    "from keras.layers import MaxPooling2D\n",
    "from keras.layers import Flatten"
   ]
  },
  {
   "cell_type": "code",
   "execution_count": 7,
   "id": "ee52222d",
   "metadata": {},
   "outputs": [],
   "source": [
    "model=Sequential()"
   ]
  },
  {
   "cell_type": "code",
   "execution_count": 8,
   "id": "a0b64854",
   "metadata": {},
   "outputs": [],
   "source": [
    "model.add(Convolution2D(32,(3,3),input_shape=(128,128,3),activation='relu'))"
   ]
  },
  {
   "cell_type": "code",
   "execution_count": 9,
   "id": "a98e9c43",
   "metadata": {},
   "outputs": [],
   "source": [
    "model.add(MaxPooling2D(pool_size=(2,2)))"
   ]
  },
  {
   "cell_type": "code",
   "execution_count": 10,
   "id": "89831bb0",
   "metadata": {},
   "outputs": [],
   "source": [
    "model.add(Flatten())"
   ]
  },
  {
   "cell_type": "code",
   "execution_count": 11,
   "id": "a390dc00",
   "metadata": {},
   "outputs": [],
   "source": [
    "model.add(Dense(units=300,activation='relu'))\n",
    "model.add(Dense(units=150,activation='relu'))\n",
    "model.add(Dense(units=75,activation='relu'))\n",
    "model.add(Dense(units=9,activation='softmax'))"
   ]
  },
  {
   "cell_type": "code",
   "execution_count": 12,
   "id": "f08e0d71",
   "metadata": {},
   "outputs": [],
   "source": [
    "model.compile(loss='categorical_crossentropy',optimizer='adam',metrics=['accuracy'])"
   ]
  },
  {
   "cell_type": "code",
   "execution_count": 13,
   "id": "409d59b8",
   "metadata": {},
   "outputs": [
    {
     "name": "stderr",
     "output_type": "stream",
     "text": [
      "C:\\Users\\SAURAB~1\\AppData\\Local\\Temp/ipykernel_10356/174847055.py:1: UserWarning: `Model.fit_generator` is deprecated and will be removed in a future version. Please use `Model.fit`, which supports generators.\n",
      "  model.fit_generator(x_train,steps_per_epoch=89,epochs=20,validation_data=x_test,validation_steps=27)\n"
     ]
    },
    {
     "name": "stdout",
     "output_type": "stream",
     "text": [
      "Epoch 1/20\n",
      "89/89 [==============================] - 31s 345ms/step - loss: 2.8369 - accuracy: 0.2746 - val_loss: 1.5583 - val_accuracy: 0.4838\n",
      "Epoch 2/20\n",
      "89/89 [==============================] - 31s 345ms/step - loss: 1.3561 - accuracy: 0.5323 - val_loss: 1.3340 - val_accuracy: 0.5671\n",
      "Epoch 3/20\n",
      "89/89 [==============================] - 29s 329ms/step - loss: 1.1275 - accuracy: 0.6074 - val_loss: 1.2351 - val_accuracy: 0.5694\n",
      "Epoch 4/20\n",
      "89/89 [==============================] - 29s 324ms/step - loss: 0.9758 - accuracy: 0.6440 - val_loss: 0.9521 - val_accuracy: 0.6551\n",
      "Epoch 5/20\n",
      "89/89 [==============================] - 28s 318ms/step - loss: 0.9002 - accuracy: 0.6861 - val_loss: 0.7767 - val_accuracy: 0.7245\n",
      "Epoch 6/20\n",
      "89/89 [==============================] - 30s 340ms/step - loss: 0.8297 - accuracy: 0.7184 - val_loss: 0.8054 - val_accuracy: 0.7060\n",
      "Epoch 7/20\n",
      "89/89 [==============================] - 31s 343ms/step - loss: 0.7284 - accuracy: 0.7374 - val_loss: 0.7404 - val_accuracy: 0.6991\n",
      "Epoch 8/20\n",
      "89/89 [==============================] - 29s 324ms/step - loss: 0.7045 - accuracy: 0.7409 - val_loss: 1.1024 - val_accuracy: 0.6134\n",
      "Epoch 9/20\n",
      "89/89 [==============================] - 31s 345ms/step - loss: 0.6471 - accuracy: 0.7676 - val_loss: 0.6744 - val_accuracy: 0.7569\n",
      "Epoch 10/20\n",
      "89/89 [==============================] - 29s 328ms/step - loss: 0.6768 - accuracy: 0.7683 - val_loss: 0.6454 - val_accuracy: 0.7708\n",
      "Epoch 11/20\n",
      "89/89 [==============================] - 28s 315ms/step - loss: 0.6648 - accuracy: 0.7556 - val_loss: 0.6540 - val_accuracy: 0.7662\n",
      "Epoch 12/20\n",
      "89/89 [==============================] - 30s 340ms/step - loss: 0.6026 - accuracy: 0.7858 - val_loss: 0.6508 - val_accuracy: 0.7616\n",
      "Epoch 13/20\n",
      "89/89 [==============================] - 28s 317ms/step - loss: 0.5792 - accuracy: 0.7795 - val_loss: 0.6020 - val_accuracy: 0.7917\n",
      "Epoch 14/20\n",
      "89/89 [==============================] - 29s 324ms/step - loss: 0.5801 - accuracy: 0.7999 - val_loss: 0.3342 - val_accuracy: 0.8889\n",
      "Epoch 15/20\n",
      "89/89 [==============================] - 29s 324ms/step - loss: 0.5816 - accuracy: 0.7928 - val_loss: 0.5745 - val_accuracy: 0.7940\n",
      "Epoch 16/20\n",
      "89/89 [==============================] - 30s 332ms/step - loss: 0.4989 - accuracy: 0.8216 - val_loss: 0.6760 - val_accuracy: 0.7731\n",
      "Epoch 17/20\n",
      "89/89 [==============================] - 29s 323ms/step - loss: 0.5500 - accuracy: 0.8097 - val_loss: 0.4692 - val_accuracy: 0.8102\n",
      "Epoch 18/20\n",
      "89/89 [==============================] - 28s 319ms/step - loss: 0.5084 - accuracy: 0.8174 - val_loss: 0.3491 - val_accuracy: 0.8796\n",
      "Epoch 19/20\n",
      "89/89 [==============================] - 29s 323ms/step - loss: 0.5063 - accuracy: 0.8287 - val_loss: 0.4064 - val_accuracy: 0.8634\n",
      "Epoch 20/20\n",
      "89/89 [==============================] - 30s 334ms/step - loss: 0.4626 - accuracy: 0.8392 - val_loss: 0.4001 - val_accuracy: 0.8588\n"
     ]
    },
    {
     "data": {
      "text/plain": [
       "<keras.callbacks.History at 0x24821141b50>"
      ]
     },
     "execution_count": 13,
     "metadata": {},
     "output_type": "execute_result"
    }
   ],
   "source": [
    "model.fit_generator(x_train,steps_per_epoch=89,epochs=20,validation_data=x_test,validation_steps=27)"
   ]
  },
  {
   "cell_type": "code",
   "execution_count": 14,
   "id": "2f8dafe6",
   "metadata": {},
   "outputs": [],
   "source": [
    "model.save('vegetable.h5')"
   ]
  },
  {
   "cell_type": "code",
   "execution_count": 15,
   "id": "79b42af8",
   "metadata": {},
   "outputs": [
    {
     "name": "stdout",
     "output_type": "stream",
     "text": [
      "Model: \"sequential\"\n",
      "_________________________________________________________________\n",
      " Layer (type)                Output Shape              Param #   \n",
      "=================================================================\n",
      " conv2d (Conv2D)             (None, 126, 126, 32)      896       \n",
      "                                                                 \n",
      " max_pooling2d (MaxPooling2D  (None, 63, 63, 32)       0         \n",
      " )                                                               \n",
      "                                                                 \n",
      " flatten (Flatten)           (None, 127008)            0         \n",
      "                                                                 \n",
      " dense (Dense)               (None, 300)               38102700  \n",
      "                                                                 \n",
      " dense_1 (Dense)             (None, 150)               45150     \n",
      "                                                                 \n",
      " dense_2 (Dense)             (None, 75)                11325     \n",
      "                                                                 \n",
      " dense_3 (Dense)             (None, 9)                 684       \n",
      "                                                                 \n",
      "=================================================================\n",
      "Total params: 38,160,755\n",
      "Trainable params: 38,160,755\n",
      "Non-trainable params: 0\n",
      "_________________________________________________________________\n"
     ]
    }
   ],
   "source": [
    "model.summary()"
   ]
  },
  {
   "cell_type": "code",
   "execution_count": null,
   "id": "2ebddb93",
   "metadata": {},
   "outputs": [],
   "source": []
  }
 ],
 "metadata": {
  "kernelspec": {
   "display_name": "Python 3 (ipykernel)",
   "language": "python",
   "name": "python3"
  },
  "language_info": {
   "codemirror_mode": {
    "name": "ipython",
    "version": 3
   },
   "file_extension": ".py",
   "mimetype": "text/x-python",
   "name": "python",
   "nbconvert_exporter": "python",
   "pygments_lexer": "ipython3",
   "version": "3.9.7"
  }
 },
 "nbformat": 4,
 "nbformat_minor": 5
}
